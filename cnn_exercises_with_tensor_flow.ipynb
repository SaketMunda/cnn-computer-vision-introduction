{
  "nbformat": 4,
  "nbformat_minor": 0,
  "metadata": {
    "colab": {
      "provenance": [],
      "authorship_tag": "ABX9TyMrtPpmuMJXTcugxBp48wD/",
      "include_colab_link": true
    },
    "kernelspec": {
      "name": "python3",
      "display_name": "Python 3"
    },
    "language_info": {
      "name": "python"
    }
  },
  "cells": [
    {
      "cell_type": "markdown",
      "metadata": {
        "id": "view-in-github",
        "colab_type": "text"
      },
      "source": [
        "<a href=\"https://colab.research.google.com/github/SaketMunda/cnn-computer-vision-introduction/blob/master/cnn_exercises_with_tensor_flow.ipynb\" target=\"_parent\"><img src=\"https://colab.research.google.com/assets/colab-badge.svg\" alt=\"Open In Colab\"/></a>"
      ]
    },
    {
      "cell_type": "markdown",
      "source": [
        "# Convolutional Neural Network Exercises with TensorFlow\n",
        "\n",
        "This notebook contains some of the exercises done for the topic Convolutional Neural Network using TensorFlow"
      ],
      "metadata": {
        "id": "4nvMOMQqEd_g"
      }
    },
    {
      "cell_type": "markdown",
      "source": [
        "## Exercise 1.  Build your own CNN Image Classifier\n",
        "\n",
        "Take 10 photos of two different things and build your own CNN image classifier using the techniques we've built here during the learning section.\n",
        "\n",
        "[Refer Notebook](https://colab.research.google.com/drive/1BGFI5WdRlSD0ukKJ4olBGboC7ZfOukDV)\n",
        "\n",
        "Before starting exploring the data we need to extract the data from somewhere, so I'm taking image data from [Unsplash](unsplash.com).\n",
        "\n",
        "They provide free lite version named as `Unsplash Lite Dataset 1.2.0` to practice from [`unsplash.com/data`](unsplash.com/data)\n",
        "\n"
      ],
      "metadata": {
        "id": "ZMP7nsV2E48P"
      }
    },
    {
      "cell_type": "code",
      "source": [
        "### 1. Unzip Data\n",
        "\n"
      ],
      "metadata": {
        "id": "5XrLFU9nlf_t"
      },
      "execution_count": null,
      "outputs": []
    }
  ]
}