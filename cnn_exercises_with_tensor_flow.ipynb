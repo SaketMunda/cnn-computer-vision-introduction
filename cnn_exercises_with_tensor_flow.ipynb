{
  "nbformat": 4,
  "nbformat_minor": 0,
  "metadata": {
    "colab": {
      "provenance": [],
      "mount_file_id": "1zdOc8fOSQilmk7J7BShhwaC2qaYjBHJ_",
      "authorship_tag": "ABX9TyPhl3f9NswsmHxNG2CwnevV",
      "include_colab_link": true
    },
    "kernelspec": {
      "name": "python3",
      "display_name": "Python 3"
    },
    "language_info": {
      "name": "python"
    },
    "accelerator": "GPU",
    "gpuClass": "standard"
  },
  "cells": [
    {
      "cell_type": "markdown",
      "metadata": {
        "id": "view-in-github",
        "colab_type": "text"
      },
      "source": [
        "<a href=\"https://colab.research.google.com/github/SaketMunda/cnn-computer-vision-introduction/blob/master/cnn_exercises_with_tensor_flow.ipynb\" target=\"_parent\"><img src=\"https://colab.research.google.com/assets/colab-badge.svg\" alt=\"Open In Colab\"/></a>"
      ]
    },
    {
      "cell_type": "markdown",
      "source": [
        "# Convolutional Neural Network Exercises with TensorFlow\n",
        "\n",
        "This notebook contains some of the exercises done for the topic Convolutional Neural Network using TensorFlow"
      ],
      "metadata": {
        "id": "4nvMOMQqEd_g"
      }
    },
    {
      "cell_type": "markdown",
      "source": [
        "## Exercise 1.  Build your own CNN Image Classifier\n",
        "\n",
        "Take 10 photos of two different things and build your own CNN image classifier using the techniques we've built here during the learning section.\n",
        "\n",
        "[Refer Notebook](https://colab.research.google.com/drive/1BGFI5WdRlSD0ukKJ4olBGboC7ZfOukDV)\n",
        "\n",
        "Before starting exploring the data we need to extract the data from somewhere, so I'm taking image data from [Unsplash](unsplash.com).\n",
        "\n",
        "They provide free lite version named as `Unsplash Lite Dataset 1.2.0` to practice from [`unsplash.com/data`](unsplash.com/data)\n",
        "\n"
      ],
      "metadata": {
        "id": "ZMP7nsV2E48P"
      }
    },
    {
      "cell_type": "markdown",
      "source": [
        "### 1. Unzip Data"
      ],
      "metadata": {
        "id": "9Yhm9bZrAW9b"
      }
    },
    {
      "cell_type": "code",
      "source": [
        "import zipfile\n",
        "\n",
        "# unzip the zip file\n",
        "zip_ref = zipfile.ZipFile('drive/MyDrive/Data Science/CNNExercise/unsplash-research-dataset-lite-latest.zip')\n",
        "zip_ref.extractall()\n",
        "zip_ref.close()"
      ],
      "metadata": {
        "id": "5XrLFU9nlf_t"
      },
      "execution_count": 3,
      "outputs": []
    },
    {
      "cell_type": "markdown",
      "source": [
        "### 2. Inspect the data"
      ],
      "metadata": {
        "id": "2xUVy3qSAHly"
      }
    },
    {
      "cell_type": "code",
      "source": [
        "# Import libraries\n",
        "import pandas as pd\n",
        "import numpy as np\n",
        "import glob"
      ],
      "metadata": {
        "id": "8G2KlBgmAbva"
      },
      "execution_count": 4,
      "outputs": []
    },
    {
      "cell_type": "markdown",
      "source": [
        "#### Loading the dataset in pandas\n"
      ],
      "metadata": {
        "id": "hEZ9ViXLAhZ6"
      }
    },
    {
      "cell_type": "code",
      "source": [
        "documents = ['collections', 'photos', 'colors', 'conversions', 'keywords']\n",
        "datasets = {}\n",
        "\n",
        "for doc in documents:\n",
        "  files = glob.glob(doc + \".tsv*\")\n",
        "\n",
        "  subsets = []\n",
        "  for filename in files:\n",
        "    df = pd.read_csv(filename, sep='\\t', header=0)\n",
        "    subsets.append(df)\n",
        "  \n",
        "  datasets[doc] = pd.concat(subsets, axis=0, ignore_index=True)"
      ],
      "metadata": {
        "id": "_eG-pQfpArFx"
      },
      "execution_count": 5,
      "outputs": []
    },
    {
      "cell_type": "markdown",
      "source": [
        "#### Exploring the datasets"
      ],
      "metadata": {
        "id": "Ba5EfuaTBSo2"
      }
    },
    {
      "cell_type": "code",
      "source": [
        "# explore photos\n",
        "datasets['photos'].head(1).T"
      ],
      "metadata": {
        "colab": {
          "base_uri": "https://localhost:8080/",
          "height": 655
        },
        "id": "hCXkHx9NBies",
        "outputId": "2cadff91-5a09-48a2-af9a-dccc894c6fa3"
      },
      "execution_count": 17,
      "outputs": [
        {
          "output_type": "execute_result",
          "data": {
            "text/plain": [
              "                                                                                0\n",
              "photo_id                                                              XMyPniM9LF0\n",
              "photo_url                                 https://unsplash.com/photos/XMyPniM9LF0\n",
              "photo_image_url                 https://images.unsplash.com/uploads/1411949294...\n",
              "photo_submitted_at                                     2014-09-29 00:08:38.594364\n",
              "photo_featured                                                                  t\n",
              "photo_width                                                                  4272\n",
              "photo_height                                                                 2848\n",
              "photo_aspect_ratio                                                            1.5\n",
              "photo_description                                        Woman exploring a forest\n",
              "photographer_username                                           michellespencer77\n",
              "photographer_first_name                                                  Michelle\n",
              "photographer_last_name                                                    Spencer\n",
              "exif_camera_make                                                            Canon\n",
              "exif_camera_model                                              Canon EOS REBEL T3\n",
              "exif_iso                                                                    400.0\n",
              "exif_aperture_value                                                           1.8\n",
              "exif_focal_length                                                            50.0\n",
              "exif_exposure_time                                                          1/100\n",
              "photo_location_name                                                           NaN\n",
              "photo_location_latitude                                                       NaN\n",
              "photo_location_longitude                                                      NaN\n",
              "photo_location_country                                                        NaN\n",
              "photo_location_city                                                           NaN\n",
              "stats_views                                                               2375421\n",
              "stats_downloads                                                              6967\n",
              "ai_description                              woman walking in the middle of forest\n",
              "ai_primary_landmark_name                                                      NaN\n",
              "ai_primary_landmark_latitude                                                  NaN\n",
              "ai_primary_landmark_longitude                                                 NaN\n",
              "ai_primary_landmark_confidence                                                NaN\n",
              "blur_hash                                            L56bVcRRIWMh.gVunlS4SMbsRRxr"
            ],
            "text/html": [
              "\n",
              "  <div id=\"df-4313517a-47fa-418d-be80-4db38b72da4c\">\n",
              "    <div class=\"colab-df-container\">\n",
              "      <div>\n",
              "<style scoped>\n",
              "    .dataframe tbody tr th:only-of-type {\n",
              "        vertical-align: middle;\n",
              "    }\n",
              "\n",
              "    .dataframe tbody tr th {\n",
              "        vertical-align: top;\n",
              "    }\n",
              "\n",
              "    .dataframe thead th {\n",
              "        text-align: right;\n",
              "    }\n",
              "</style>\n",
              "<table border=\"1\" class=\"dataframe\">\n",
              "  <thead>\n",
              "    <tr style=\"text-align: right;\">\n",
              "      <th></th>\n",
              "      <th>0</th>\n",
              "    </tr>\n",
              "  </thead>\n",
              "  <tbody>\n",
              "    <tr>\n",
              "      <th>photo_id</th>\n",
              "      <td>XMyPniM9LF0</td>\n",
              "    </tr>\n",
              "    <tr>\n",
              "      <th>photo_url</th>\n",
              "      <td>https://unsplash.com/photos/XMyPniM9LF0</td>\n",
              "    </tr>\n",
              "    <tr>\n",
              "      <th>photo_image_url</th>\n",
              "      <td>https://images.unsplash.com/uploads/1411949294...</td>\n",
              "    </tr>\n",
              "    <tr>\n",
              "      <th>photo_submitted_at</th>\n",
              "      <td>2014-09-29 00:08:38.594364</td>\n",
              "    </tr>\n",
              "    <tr>\n",
              "      <th>photo_featured</th>\n",
              "      <td>t</td>\n",
              "    </tr>\n",
              "    <tr>\n",
              "      <th>photo_width</th>\n",
              "      <td>4272</td>\n",
              "    </tr>\n",
              "    <tr>\n",
              "      <th>photo_height</th>\n",
              "      <td>2848</td>\n",
              "    </tr>\n",
              "    <tr>\n",
              "      <th>photo_aspect_ratio</th>\n",
              "      <td>1.5</td>\n",
              "    </tr>\n",
              "    <tr>\n",
              "      <th>photo_description</th>\n",
              "      <td>Woman exploring a forest</td>\n",
              "    </tr>\n",
              "    <tr>\n",
              "      <th>photographer_username</th>\n",
              "      <td>michellespencer77</td>\n",
              "    </tr>\n",
              "    <tr>\n",
              "      <th>photographer_first_name</th>\n",
              "      <td>Michelle</td>\n",
              "    </tr>\n",
              "    <tr>\n",
              "      <th>photographer_last_name</th>\n",
              "      <td>Spencer</td>\n",
              "    </tr>\n",
              "    <tr>\n",
              "      <th>exif_camera_make</th>\n",
              "      <td>Canon</td>\n",
              "    </tr>\n",
              "    <tr>\n",
              "      <th>exif_camera_model</th>\n",
              "      <td>Canon EOS REBEL T3</td>\n",
              "    </tr>\n",
              "    <tr>\n",
              "      <th>exif_iso</th>\n",
              "      <td>400.0</td>\n",
              "    </tr>\n",
              "    <tr>\n",
              "      <th>exif_aperture_value</th>\n",
              "      <td>1.8</td>\n",
              "    </tr>\n",
              "    <tr>\n",
              "      <th>exif_focal_length</th>\n",
              "      <td>50.0</td>\n",
              "    </tr>\n",
              "    <tr>\n",
              "      <th>exif_exposure_time</th>\n",
              "      <td>1/100</td>\n",
              "    </tr>\n",
              "    <tr>\n",
              "      <th>photo_location_name</th>\n",
              "      <td>NaN</td>\n",
              "    </tr>\n",
              "    <tr>\n",
              "      <th>photo_location_latitude</th>\n",
              "      <td>NaN</td>\n",
              "    </tr>\n",
              "    <tr>\n",
              "      <th>photo_location_longitude</th>\n",
              "      <td>NaN</td>\n",
              "    </tr>\n",
              "    <tr>\n",
              "      <th>photo_location_country</th>\n",
              "      <td>NaN</td>\n",
              "    </tr>\n",
              "    <tr>\n",
              "      <th>photo_location_city</th>\n",
              "      <td>NaN</td>\n",
              "    </tr>\n",
              "    <tr>\n",
              "      <th>stats_views</th>\n",
              "      <td>2375421</td>\n",
              "    </tr>\n",
              "    <tr>\n",
              "      <th>stats_downloads</th>\n",
              "      <td>6967</td>\n",
              "    </tr>\n",
              "    <tr>\n",
              "      <th>ai_description</th>\n",
              "      <td>woman walking in the middle of forest</td>\n",
              "    </tr>\n",
              "    <tr>\n",
              "      <th>ai_primary_landmark_name</th>\n",
              "      <td>NaN</td>\n",
              "    </tr>\n",
              "    <tr>\n",
              "      <th>ai_primary_landmark_latitude</th>\n",
              "      <td>NaN</td>\n",
              "    </tr>\n",
              "    <tr>\n",
              "      <th>ai_primary_landmark_longitude</th>\n",
              "      <td>NaN</td>\n",
              "    </tr>\n",
              "    <tr>\n",
              "      <th>ai_primary_landmark_confidence</th>\n",
              "      <td>NaN</td>\n",
              "    </tr>\n",
              "    <tr>\n",
              "      <th>blur_hash</th>\n",
              "      <td>L56bVcRRIWMh.gVunlS4SMbsRRxr</td>\n",
              "    </tr>\n",
              "  </tbody>\n",
              "</table>\n",
              "</div>\n",
              "      <button class=\"colab-df-convert\" onclick=\"convertToInteractive('df-4313517a-47fa-418d-be80-4db38b72da4c')\"\n",
              "              title=\"Convert this dataframe to an interactive table.\"\n",
              "              style=\"display:none;\">\n",
              "        \n",
              "  <svg xmlns=\"http://www.w3.org/2000/svg\" height=\"24px\"viewBox=\"0 0 24 24\"\n",
              "       width=\"24px\">\n",
              "    <path d=\"M0 0h24v24H0V0z\" fill=\"none\"/>\n",
              "    <path d=\"M18.56 5.44l.94 2.06.94-2.06 2.06-.94-2.06-.94-.94-2.06-.94 2.06-2.06.94zm-11 1L8.5 8.5l.94-2.06 2.06-.94-2.06-.94L8.5 2.5l-.94 2.06-2.06.94zm10 10l.94 2.06.94-2.06 2.06-.94-2.06-.94-.94-2.06-.94 2.06-2.06.94z\"/><path d=\"M17.41 7.96l-1.37-1.37c-.4-.4-.92-.59-1.43-.59-.52 0-1.04.2-1.43.59L10.3 9.45l-7.72 7.72c-.78.78-.78 2.05 0 2.83L4 21.41c.39.39.9.59 1.41.59.51 0 1.02-.2 1.41-.59l7.78-7.78 2.81-2.81c.8-.78.8-2.07 0-2.86zM5.41 20L4 18.59l7.72-7.72 1.47 1.35L5.41 20z\"/>\n",
              "  </svg>\n",
              "      </button>\n",
              "      \n",
              "  <style>\n",
              "    .colab-df-container {\n",
              "      display:flex;\n",
              "      flex-wrap:wrap;\n",
              "      gap: 12px;\n",
              "    }\n",
              "\n",
              "    .colab-df-convert {\n",
              "      background-color: #E8F0FE;\n",
              "      border: none;\n",
              "      border-radius: 50%;\n",
              "      cursor: pointer;\n",
              "      display: none;\n",
              "      fill: #1967D2;\n",
              "      height: 32px;\n",
              "      padding: 0 0 0 0;\n",
              "      width: 32px;\n",
              "    }\n",
              "\n",
              "    .colab-df-convert:hover {\n",
              "      background-color: #E2EBFA;\n",
              "      box-shadow: 0px 1px 2px rgba(60, 64, 67, 0.3), 0px 1px 3px 1px rgba(60, 64, 67, 0.15);\n",
              "      fill: #174EA6;\n",
              "    }\n",
              "\n",
              "    [theme=dark] .colab-df-convert {\n",
              "      background-color: #3B4455;\n",
              "      fill: #D2E3FC;\n",
              "    }\n",
              "\n",
              "    [theme=dark] .colab-df-convert:hover {\n",
              "      background-color: #434B5C;\n",
              "      box-shadow: 0px 1px 3px 1px rgba(0, 0, 0, 0.15);\n",
              "      filter: drop-shadow(0px 1px 2px rgba(0, 0, 0, 0.3));\n",
              "      fill: #FFFFFF;\n",
              "    }\n",
              "  </style>\n",
              "\n",
              "      <script>\n",
              "        const buttonEl =\n",
              "          document.querySelector('#df-4313517a-47fa-418d-be80-4db38b72da4c button.colab-df-convert');\n",
              "        buttonEl.style.display =\n",
              "          google.colab.kernel.accessAllowed ? 'block' : 'none';\n",
              "\n",
              "        async function convertToInteractive(key) {\n",
              "          const element = document.querySelector('#df-4313517a-47fa-418d-be80-4db38b72da4c');\n",
              "          const dataTable =\n",
              "            await google.colab.kernel.invokeFunction('convertToInteractive',\n",
              "                                                     [key], {});\n",
              "          if (!dataTable) return;\n",
              "\n",
              "          const docLinkHtml = 'Like what you see? Visit the ' +\n",
              "            '<a target=\"_blank\" href=https://colab.research.google.com/notebooks/data_table.ipynb>data table notebook</a>'\n",
              "            + ' to learn more about interactive tables.';\n",
              "          element.innerHTML = '';\n",
              "          dataTable['output_type'] = 'display_data';\n",
              "          await google.colab.output.renderOutput(dataTable, element);\n",
              "          const docLink = document.createElement('div');\n",
              "          docLink.innerHTML = docLinkHtml;\n",
              "          element.appendChild(docLink);\n",
              "        }\n",
              "      </script>\n",
              "    </div>\n",
              "  </div>\n",
              "  "
            ]
          },
          "metadata": {},
          "execution_count": 17
        }
      ]
    },
    {
      "cell_type": "markdown",
      "source": [
        "Open any random image to view the type of image"
      ],
      "metadata": {
        "id": "7f_Rul3ID2Kj"
      }
    },
    {
      "cell_type": "code",
      "source": [
        "photo_url = datasets['photos']['photo_image_url'][0]"
      ],
      "metadata": {
        "id": "F5KAitArBm5l"
      },
      "execution_count": 18,
      "outputs": []
    },
    {
      "cell_type": "code",
      "source": [
        "photo_url"
      ],
      "metadata": {
        "colab": {
          "base_uri": "https://localhost:8080/",
          "height": 35
        },
        "id": "eZpdVa0nB7cq",
        "outputId": "1678c521-e88a-4ef5-e40f-c0b316b2ddf9"
      },
      "execution_count": 19,
      "outputs": [
        {
          "output_type": "execute_result",
          "data": {
            "text/plain": [
              "'https://images.unsplash.com/uploads/14119492946973137ce46/f1f2ebf3'"
            ],
            "application/vnd.google.colaboratory.intrinsic+json": {
              "type": "string"
            }
          },
          "metadata": {},
          "execution_count": 19
        }
      ]
    },
    {
      "cell_type": "code",
      "source": [
        "from PIL import Image\n",
        "import urllib.request\n",
        "\n",
        "urllib.request.urlretrieve(photo_url, \"photo1.jpg\")\n",
        "img = Image.open(\"photo1.jpg\")\n",
        "img.show()"
      ],
      "metadata": {
        "id": "3rRcaOuPCDeT"
      },
      "execution_count": 23,
      "outputs": []
    },
    {
      "cell_type": "code",
      "source": [],
      "metadata": {
        "id": "voB9x0vSElhj"
      },
      "execution_count": null,
      "outputs": []
    }
  ]
}